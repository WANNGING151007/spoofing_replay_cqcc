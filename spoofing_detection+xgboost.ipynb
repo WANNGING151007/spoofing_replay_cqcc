{
 "cells": [
  {
   "cell_type": "code",
   "execution_count": 7,
   "metadata": {},
   "outputs": [],
   "source": [
    "import xgboost as xgb\n",
    "import numpy as np\n",
    "\n",
    "from scipy.io import loadmat, savemat"
   ]
  },
  {
   "cell_type": "code",
   "execution_count": 3,
   "metadata": {
    "collapsed": true
   },
   "outputs": [],
   "source": [
    "training_genuine_i_vectors = loadmat('./cqcc_i_vec_wcmvn/training_genuine_i_vectors.mat').get('training_genuine_i_vectors')\n",
    "training_spoof_i_vectors = loadmat('./cqcc_i_vec_wcmvn/training_spoof_i_vectors.mat').get('training_spoof_i_vectors')\n",
    "evaluation_i_vectors_ubm = loadmat('./cqcc_i_vec_wcmvn/evaluation_i_vectors_ubm.mat').get('evaluation_i_vectors_ubm')"
   ]
  },
  {
   "cell_type": "code",
   "execution_count": 4,
   "metadata": {
    "collapsed": true
   },
   "outputs": [],
   "source": [
    "train_data = np.concatenate([training_genuine_i_vectors, training_spoof_i_vectors], axis = 1).T\n",
    "evaluation_i_vectors_ubm = evaluation_i_vectors_ubm.T\n",
    "labels = np.concatenate([np.ones(training_genuine_i_vectors.shape[1]), np.zeros(training_spoof_i_vectors.shape[1])])"
   ]
  },
  {
   "cell_type": "code",
   "execution_count": 6,
   "metadata": {
    "collapsed": true
   },
   "outputs": [],
   "source": [
    "xgb_params = {\n",
    "    'eta': 0.05,\n",
    "    'gamma': 0.1,\n",
    "    'lambda': 1,\n",
    "    'alpha': 0,\n",
    "    'max_depth': 3,\n",
    "    'min_child_weight': 1,\n",
    "    'max_delta_step': 0,\n",
    "    'subsample': 0.86,\n",
    "    'colsample_bytree': 0.6,\n",
    "    'colsample_bylevel': 1,\n",
    "    'objective': 'binary:logistic',\n",
    "    'eval_metric': 'auc',\n",
    "    'nthread': 12,\n",
    "    'seed': 1,\n",
    "    'silent': 1\n",
    "}\n",
    "n_estimators = 2000\n",
    "\n",
    "xgb_train = xgb.DMatrix(train_data, label=labels, missing=np.nan)\n",
    "xgb_val = xgb.DMatrix(evaluation_i_vectors_ubm, missing=np.nan)\n",
    "\n",
    "\n",
    "model = xgb.train(xgb_params, xgb_train, num_boost_round=n_estimators, verbose_eval=1)\n",
    "y_pred = model.predict(xgb_val)\n",
    "\n",
    "scores = {'prob': np.log(y_pred)}\n",
    "savemat('scores.mat', scores)"
   ]
  }
 ],
 "metadata": {
  "kernelspec": {
   "display_name": "Python 3",
   "language": "python",
   "name": "python3"
  },
  "language_info": {
   "codemirror_mode": {
    "name": "ipython",
    "version": 3
   },
   "file_extension": ".py",
   "mimetype": "text/x-python",
   "name": "python",
   "nbconvert_exporter": "python",
   "pygments_lexer": "ipython3",
   "version": "3.6.2"
  }
 },
 "nbformat": 4,
 "nbformat_minor": 2
}
